{
  "nbformat": 4,
  "nbformat_minor": 0,
  "metadata": {
    "colab": {
      "provenance": []
    },
    "kernelspec": {
      "name": "python3",
      "display_name": "Python 3"
    },
    "language_info": {
      "name": "python"
    }
  },
  "cells": [
    {
      "cell_type": "markdown",
      "source": [
        "#Problem\n",
        "Max: X+Y\n",
        "\n",
        "Constraints:\n",
        "\n",
        "-x+2y <= 7\n",
        "\n",
        "2x+y <= 14\n",
        "\n",
        "2x-y <= 10\n",
        "\n",
        "0 <= x<= 10\n",
        "\n",
        "0 <= y<= 10\n",
        "\n",
        "x is an integer"
      ],
      "metadata": {
        "id": "Dq3GlEev68Il"
      }
    },
    {
      "cell_type": "markdown",
      "source": [
        "#Analysis\n",
        "\n",
        "Here we can see that x is an integer and the y is not(as doesn't mention)..\n",
        "\n",
        "So, we will use CBC solver instead of GLOP as we used in lp problem cause CBC will be appropriate for Mixed Linear Intefer Programming"
      ],
      "metadata": {
        "id": "qxe10CseqROI"
      }
    },
    {
      "cell_type": "markdown",
      "source": [
        "#installation"
      ],
      "metadata": {
        "id": "6L5Ee9zDp_yu"
      }
    },
    {
      "cell_type": "code",
      "source": [
        "!pip install ortools"
      ],
      "metadata": {
        "colab": {
          "base_uri": "https://localhost:8080/"
        },
        "id": "F-YMfZW9qD85",
        "outputId": "b1cdac68-93d6-4e2d-c52d-5ffcc1cbbb8f"
      },
      "execution_count": 1,
      "outputs": [
        {
          "output_type": "stream",
          "name": "stdout",
          "text": [
            "Collecting ortools\n",
            "  Downloading ortools-9.6.2534-cp310-cp310-manylinux_2_17_x86_64.manylinux2014_x86_64.whl (16.4 MB)\n",
            "\u001b[2K     \u001b[90m━━━━━━━━━━━━━━━━━━━━━━━━━━━━━━━━━━━━━━━━\u001b[0m \u001b[32m16.4/16.4 MB\u001b[0m \u001b[31m72.6 MB/s\u001b[0m eta \u001b[36m0:00:00\u001b[0m\n",
            "\u001b[?25hRequirement already satisfied: absl-py>=0.13 in /usr/local/lib/python3.10/dist-packages (from ortools) (1.4.0)\n",
            "Requirement already satisfied: numpy>=1.13.3 in /usr/local/lib/python3.10/dist-packages (from ortools) (1.22.4)\n",
            "Collecting protobuf>=4.21.12 (from ortools)\n",
            "  Downloading protobuf-4.23.4-cp37-abi3-manylinux2014_x86_64.whl (304 kB)\n",
            "\u001b[2K     \u001b[90m━━━━━━━━━━━━━━━━━━━━━━━━━━━━━━━━━━━━━━\u001b[0m \u001b[32m304.5/304.5 kB\u001b[0m \u001b[31m31.9 MB/s\u001b[0m eta \u001b[36m0:00:00\u001b[0m\n",
            "\u001b[?25hRequirement already satisfied: scipy>=1.10.0 in /usr/local/lib/python3.10/dist-packages (from ortools) (1.10.1)\n",
            "Installing collected packages: protobuf, ortools\n",
            "  Attempting uninstall: protobuf\n",
            "    Found existing installation: protobuf 3.20.3\n",
            "    Uninstalling protobuf-3.20.3:\n",
            "      Successfully uninstalled protobuf-3.20.3\n",
            "Successfully installed ortools-9.6.2534 protobuf-4.23.4\n"
          ]
        }
      ]
    },
    {
      "cell_type": "code",
      "source": [
        "from ortools.linear_solver import pywraplp\n",
        "\n",
        "solver = pywraplp.Solver.CreateSolver('CBC') #Change GLOP cause it does not work on integer problem\n",
        "\n",
        "#Variables\n",
        "x=solver.IntVar(0,10,'x') #lower bound , upper bound, string #For an integer output use IntVar instead of NumVar\n",
        "y=solver.NumVar(0,10,'y')\n",
        "\n",
        "#Constraints\n",
        "\n",
        "solver.Add(-x+2*y <= 7)\n",
        "solver.Add(2*x+y <= 14)\n",
        "solver.Add(2*x-y <= 10)\n",
        "\n",
        "#Obejective\n",
        "solver.Maximize(x+y)\n",
        "\n",
        "\n",
        "#Results:\n",
        "\n",
        "results = solver.Solve()\n",
        "\n",
        "#confirm optimal or not\n",
        "\n",
        "if results==pywraplp.Solver.OPTIMAL: print('optimal found')\n",
        "\n",
        "print('x:', x.solution_value())\n",
        "\n",
        "print('y:', y.solution_value())\n"
      ],
      "metadata": {
        "colab": {
          "base_uri": "https://localhost:8080/"
        },
        "id": "Y0HRvAD669ue",
        "outputId": "22f21325-129d-4942-d1f3-e1243805c7ce"
      },
      "execution_count": 2,
      "outputs": [
        {
          "output_type": "stream",
          "name": "stdout",
          "text": [
            "optimal found\n",
            "x: 4.0\n",
            "y: 5.5\n"
          ]
        }
      ]
    }
  ]
}