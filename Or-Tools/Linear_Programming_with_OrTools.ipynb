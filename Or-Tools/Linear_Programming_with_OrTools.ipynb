{
  "nbformat": 4,
  "nbformat_minor": 0,
  "metadata": {
    "colab": {
      "provenance": []
    },
    "kernelspec": {
      "name": "python3",
      "display_name": "Python 3"
    },
    "language_info": {
      "name": "python"
    }
  },
  "cells": [
    {
      "cell_type": "markdown",
      "source": [
        "https://developers.google.com/optimization\n",
        "\n",
        "Note: Only for linear programming where as pyomo works both linear and non-linear programming\n",
        "\n",
        "OR-Tools is open source software for combinatorial optimization, which seeks to find the best solution to a problem out of a very large set of possible solutions. Here are some examples of problems that OR-Tools solves:\n",
        "\n",
        "Vehicle routing: Find optimal routes for vehicle fleets that pick up and deliver packages given constraints (e.g., \"this truck can't hold more than 20,000 pounds\" or \"all deliveries must be made within a two-hour window\").\n",
        "\n",
        "Scheduling: Find the optimal schedule for a complex set of tasks, some of which need to be performed before others, on a fixed set of machines, or other resources.\n",
        "\n",
        "Bin packing: Pack as many objects of various sizes as possible into a fixed number of bins with maximum capacities."
      ],
      "metadata": {
        "id": "LaDaNLwS8ChN"
      }
    },
    {
      "cell_type": "markdown",
      "source": [
        "#Problem 1\n",
        "Max: X+Y\n",
        "\n",
        "Constraints:\n",
        "\n",
        "-x+2y <= 8\n",
        "\n",
        "2x+y <= 14\n",
        "\n",
        "2x-y <= 10\n",
        "\n",
        "0 <= x<= 10\n",
        "\n",
        "0 <= y<= 10"
      ],
      "metadata": {
        "id": "-EO5ckq66dsx"
      }
    },
    {
      "cell_type": "markdown",
      "source": [
        "Note: OrTools does not work with GLOP solver..\n",
        "\n",
        "Need CBC, Gurobi, Cplex\n"
      ],
      "metadata": {
        "id": "Xmlufr4i7ERJ"
      }
    },
    {
      "cell_type": "markdown",
      "source": [
        "#installation"
      ],
      "metadata": {
        "id": "HtGgBI0C6pND"
      }
    },
    {
      "cell_type": "code",
      "source": [
        "!pip install ortools\n"
      ],
      "metadata": {
        "colab": {
          "base_uri": "https://localhost:8080/"
        },
        "id": "ndu8fFD46rpk",
        "outputId": "641b19ac-2a1c-48aa-a5fb-43eb28c5dfa3"
      },
      "execution_count": null,
      "outputs": [
        {
          "output_type": "stream",
          "name": "stdout",
          "text": [
            "Looking in indexes: https://pypi.org/simple, https://us-python.pkg.dev/colab-wheels/public/simple/\n",
            "Collecting ortools\n",
            "  Downloading ortools-9.6.2534-cp310-cp310-manylinux_2_17_x86_64.manylinux2014_x86_64.whl (16.4 MB)\n",
            "\u001b[2K     \u001b[90m━━━━━━━━━━━━━━━━━━━━━━━━━━━━━━━━━━━━━━━━\u001b[0m \u001b[32m16.4/16.4 MB\u001b[0m \u001b[31m49.7 MB/s\u001b[0m eta \u001b[36m0:00:00\u001b[0m\n",
            "\u001b[?25hRequirement already satisfied: absl-py>=0.13 in /usr/local/lib/python3.10/dist-packages (from ortools) (1.4.0)\n",
            "Requirement already satisfied: numpy>=1.13.3 in /usr/local/lib/python3.10/dist-packages (from ortools) (1.22.4)\n",
            "Collecting protobuf>=4.21.12 (from ortools)\n",
            "  Downloading protobuf-4.23.2-cp37-abi3-manylinux2014_x86_64.whl (304 kB)\n",
            "\u001b[2K     \u001b[90m━━━━━━━━━━━━━━━━━━━━━━━━━━━━━━━━━━━━━━\u001b[0m \u001b[32m304.5/304.5 kB\u001b[0m \u001b[31m19.6 MB/s\u001b[0m eta \u001b[36m0:00:00\u001b[0m\n",
            "\u001b[?25hRequirement already satisfied: scipy>=1.10.0 in /usr/local/lib/python3.10/dist-packages (from ortools) (1.10.1)\n",
            "Installing collected packages: protobuf, ortools\n",
            "  Attempting uninstall: protobuf\n",
            "    Found existing installation: protobuf 3.20.3\n",
            "    Uninstalling protobuf-3.20.3:\n",
            "      Successfully uninstalled protobuf-3.20.3\n",
            "Successfully installed ortools-9.6.2534 protobuf-4.23.2\n"
          ]
        }
      ]
    },
    {
      "cell_type": "markdown",
      "source": [],
      "metadata": {
        "id": "ybxzAU-D6rC7"
      }
    },
    {
      "cell_type": "markdown",
      "source": [],
      "metadata": {
        "id": "qoNbY6ow8BFV"
      }
    },
    {
      "cell_type": "markdown",
      "source": [
        "#SOlution"
      ],
      "metadata": {
        "id": "6oDelLqG63Mb"
      }
    },
    {
      "cell_type": "code",
      "source": [
        "from ortools.linear_solver import pywraplp\n",
        "\n",
        "solver = pywraplp.Solver.CreateSolver('GLOP') #which solver you are gonna use. Glop is the solver by google to solve linear programming... when you need to use Gurobi you just need to put the name 'Gurobi'\n",
        "\n",
        "\n",
        "#Variables\n",
        "x=solver.NumVar(0,10,'x') #lower bound , upper bound, string\n",
        "y=solver.NumVar(0,10,'y')\n",
        "\n",
        "#Constraints\n",
        "\n",
        "solver.Add(-x+2*y <= 8)\n",
        "solver.Add(2*x+y <= 14)\n",
        "solver.Add(2*x-y <= 10)\n",
        "\n",
        "#Obejective\n",
        "solver.Maximize(x+y)\n",
        "\n",
        "\n",
        "#Results:\n",
        "\n",
        "results = solver.Solve()\n",
        "\n",
        "#confirm optimal or not\n",
        "\n",
        "if results==pywraplp.Solver.OPTIMAL: print('optimal found')\n",
        "\n",
        "print('x:', x.solution_value())\n",
        "\n",
        "print('y:', y.solution_value())\n"
      ],
      "metadata": {
        "colab": {
          "base_uri": "https://localhost:8080/"
        },
        "id": "_x9563C964Fj",
        "outputId": "f584f022-18ee-4063-86de-bda401f6325b"
      },
      "execution_count": null,
      "outputs": [
        {
          "output_type": "stream",
          "name": "stdout",
          "text": [
            "optimal found\n",
            "x: 4.0\n",
            "y: 6.0\n"
          ]
        }
      ]
    },
    {
      "cell_type": "markdown",
      "source": [
        "#Problem 2\n",
        "Max: X+Y\n",
        "\n",
        "Constraints:\n",
        "\n",
        "-x+2y <= 7\n",
        "\n",
        "2x+y <= 14\n",
        "\n",
        "2x-y <= 10\n",
        "\n",
        "0 <= x<= 10\n",
        "\n",
        "0 <= y<= 10\n",
        "\n",
        "x is an integer"
      ],
      "metadata": {
        "id": "Dq3GlEev68Il"
      }
    },
    {
      "cell_type": "code",
      "source": [
        "from ortools.linear_solver import pywraplp\n",
        "\n",
        "solver = pywraplp.Solver.CreateSolver('CBC') #Change GLOP cause it does not work on integer problem\n",
        "\n",
        "#Variables\n",
        "x=solver.IntVar(0,10,'x') #lower bound , upper bound, string #For an integer output use IntVar instead of NumVar\n",
        "y=solver.NumVar(0,10,'y')\n",
        "\n",
        "#Constraints\n",
        "\n",
        "solver.Add(-x+2*y <= 7)\n",
        "solver.Add(2*x+y <= 14)\n",
        "solver.Add(2*x-y <= 10)\n",
        "\n",
        "#Obejective\n",
        "solver.Maximize(x+y)\n",
        "\n",
        "\n",
        "#Results:\n",
        "\n",
        "results = solver.Solve()\n",
        "\n",
        "#confirm optimal or not\n",
        "\n",
        "if results==pywraplp.Solver.OPTIMAL: print('optimal found')\n",
        "\n",
        "print('x:', x.solution_value())\n",
        "\n",
        "print('y:', y.solution_value())\n"
      ],
      "metadata": {
        "colab": {
          "base_uri": "https://localhost:8080/"
        },
        "id": "Y0HRvAD669ue",
        "outputId": "d6e73ece-0e8c-4782-b2b8-60b2b193b4cb"
      },
      "execution_count": null,
      "outputs": [
        {
          "output_type": "stream",
          "name": "stdout",
          "text": [
            "optimal found\n",
            "x: 4.0\n",
            "y: 5.5\n"
          ]
        }
      ]
    },
    {
      "cell_type": "code",
      "source": [],
      "metadata": {
        "id": "zgeMDLtF8Mzr"
      },
      "execution_count": null,
      "outputs": []
    }
  ]
}