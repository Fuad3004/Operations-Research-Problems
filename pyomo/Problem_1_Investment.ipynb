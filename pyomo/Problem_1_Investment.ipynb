{
  "nbformat": 4,
  "nbformat_minor": 0,
  "metadata": {
    "colab": {
      "provenance": [],
      "collapsed_sections": [
        "UncRhV_qxQx1"
      ]
    },
    "kernelspec": {
      "name": "python3",
      "display_name": "Python 3"
    },
    "language_info": {
      "name": "python"
    }
  },
  "cells": [
    {
      "cell_type": "markdown",
      "source": [
        "Problem:\n",
        "\n",
        "Steve wish to define the best investments that he should make with his money. He has a total of 10,000 USD and the following options for investment.\n",
        "\n",
        "* A. Low risk fund with historical gains of 5% per year.\n",
        "* B. Medium risk fund with historical gains 10% per year.\n",
        "* C. High risk fund with historical gains of 12% per year.\n",
        "\n",
        "Steve wish to control the risk of his investments with maximum of\n",
        "\n",
        " 10% of his money in the investment with high risk,\n",
        "\n",
        " 20% in the investment with medium risk.\n",
        "\n",
        "which is the decision of investments in A,B, and C that maximize the return of investment for steve?\n",
        "\n",
        "\n",
        "\n"
      ],
      "metadata": {
        "id": "nXApSSxYPOIz"
      }
    },
    {
      "cell_type": "markdown",
      "source": [
        "#Indexes"
      ],
      "metadata": {
        "id": "I-21yTGge3pY"
      }
    },
    {
      "cell_type": "markdown",
      "source": [
        "A, B , C --> Fund"
      ],
      "metadata": {
        "id": "TVkfdU1ce2LQ"
      }
    },
    {
      "cell_type": "markdown",
      "source": [
        "#Variables"
      ],
      "metadata": {
        "id": "Uw1Hx2JVSXPq"
      }
    },
    {
      "cell_type": "markdown",
      "source": [
        "Ra, Rb, Rc ---->>>> Return of investment A,B,C\n",
        "\n",
        "Ca, Cb, Cc ---->>>> Invested capital in fund A,B,C"
      ],
      "metadata": {
        "id": "q3uamQgFShWH"
      }
    },
    {
      "cell_type": "markdown",
      "source": [
        "#Constraints"
      ],
      "metadata": {
        "id": "JTg64r2eQ-bg"
      }
    },
    {
      "cell_type": "markdown",
      "source": [
        "Ca+ Cb + Cc = 100,000\n",
        "\n",
        "Ra= 0.05Ca\n",
        "\n",
        "Rb= 0.10Cb\n",
        "\n",
        "Rc= 0.12Cc\n",
        "\n",
        "0 <= Cb <= 0.2*100,000\n",
        "\n",
        "0 <= Cc <= 0.1*100,000\n"
      ],
      "metadata": {
        "id": "X-T6wAK4TYSn"
      }
    },
    {
      "cell_type": "markdown",
      "source": [
        "#Objective Function"
      ],
      "metadata": {
        "id": "YTby6UE9TVwP"
      }
    },
    {
      "cell_type": "markdown",
      "source": [
        "max(Ra + Rb + Rc)"
      ],
      "metadata": {
        "id": "brF_g8KVT8jT"
      }
    },
    {
      "cell_type": "markdown",
      "source": [
        "#Installation on Google Colab\n"
      ],
      "metadata": {
        "id": "UncRhV_qxQx1"
      }
    },
    {
      "cell_type": "code",
      "source": [
        " !pip install -q condacolab\n",
        "import condacolab\n",
        "condacolab.install()"
      ],
      "metadata": {
        "id": "azV8kgWPT8W0",
        "colab": {
          "base_uri": "https://localhost:8080/"
        },
        "outputId": "3e204eab-f812-4807-dd99-9acbb1a26c8f"
      },
      "execution_count": null,
      "outputs": [
        {
          "output_type": "stream",
          "name": "stdout",
          "text": [
            "⏬ Downloading https://github.com/conda-forge/miniforge/releases/download/23.1.0-1/Mambaforge-23.1.0-1-Linux-x86_64.sh...\n",
            "📦 Installing...\n",
            "📌 Adjusting configuration...\n",
            "🩹 Patching environment...\n",
            "⏲ Done in 0:00:15\n",
            "🔁 Restarting kernel...\n"
          ]
        }
      ]
    },
    {
      "cell_type": "code",
      "source": [
        "!pip install pyomo"
      ],
      "metadata": {
        "id": "-NuMRTPHxSgn"
      },
      "execution_count": null,
      "outputs": []
    },
    {
      "cell_type": "code",
      "source": [
        "!conda install -c conda-forge glpk"
      ],
      "metadata": {
        "colab": {
          "base_uri": "https://localhost:8080/"
        },
        "id": "w3XCN08RxWgQ",
        "outputId": "a401a19b-396a-464a-aa6f-9f7f65cb866c"
      },
      "execution_count": null,
      "outputs": [
        {
          "output_type": "stream",
          "name": "stdout",
          "text": [
            "Collecting package metadata (current_repodata.json): - \b\b\\ \b\b| \b\b/ \b\b- \b\b\\ \b\b| \b\b/ \b\b- \b\b\\ \b\b| \b\b/ \b\b- \b\b\\ \b\b| \b\b/ \b\b- \b\b\\ \b\b| \b\b/ \b\b- \b\b\\ \b\b| \b\b/ \b\b- \b\b\\ \b\b| \b\b/ \b\b- \b\b\\ \b\b| \b\b/ \b\b- \b\b\\ \b\b| \b\b/ \b\b- \b\b\\ \b\b| \b\b/ \b\b- \b\b\\ \b\b| \b\b/ \b\b- \b\b\\ \b\b| \b\b/ \b\b- \b\b\\ \b\b| \b\b/ \b\b- \b\b\\ \b\b| \b\b/ \b\b- \b\b\\ \b\b| \b\b/ \b\b- \b\b\\ \b\b| \b\b/ \b\b- \b\b\\ \b\b| \b\b/ \b\b- \b\b\\ \b\b| \b\b/ \b\b- \b\b\\ \b\b| \b\b/ \b\b- \b\b\\ \b\b| \b\b/ \b\b- \b\b\\ \b\b| \b\b/ \b\b- \b\b\\ \b\b| \b\b/ \b\b- \b\b\\ \b\b| \b\b/ \b\b- \b\b\\ \b\b| \b\b/ \b\b- \b\b\\ \b\b| \b\b/ \b\b- \b\b\\ \b\b| \b\b/ \b\b- \b\b\\ \b\b| \b\b/ \b\b- \b\b\\ \b\b| \b\b/ \b\b- \b\b\\ \b\b| \b\b/ \b\b- \b\b\\ \b\b| \b\b/ \b\b- \b\b\\ \b\b| \b\b/ \b\b- \b\b\\ \b\b| \b\b/ \b\b- \b\b\\ \b\b| \b\b/ \b\b- \b\b\\ \b\b| \b\b/ \b\b- \b\b\\ \b\b| \b\b/ \b\b- \b\b\\ \b\b| \b\b/ \b\b- \b\b\\ \b\b| \b\b/ \b\b- \b\b\\ \b\b| \b\b/ \b\b- \b\b\\ \b\b| \b\b/ \b\b- \b\b\\ \b\b| \b\b/ \b\b- \b\b\\ \b\b| \b\b/ \b\b- \b\b\\ \b\b| \b\b/ \b\b- \b\bdone\n",
            "Solving environment: | \b\b/ \b\b- \b\b\\ \b\b| \b\b/ \b\b- \b\b\\ \b\b| \b\b/ \b\b- \b\b\\ \b\bdone\n",
            "\n",
            "## Package Plan ##\n",
            "\n",
            "  environment location: /usr/local\n",
            "\n",
            "  added / updated specs:\n",
            "    - glpk\n",
            "\n",
            "\n",
            "The following packages will be downloaded:\n",
            "\n",
            "    package                    |            build\n",
            "    ---------------------------|-----------------\n",
            "    boltons-23.0.0             |     pyhd8ed1ab_0         296 KB  conda-forge\n",
            "    ca-certificates-2023.5.7   |       hbcca054_0         145 KB  conda-forge\n",
            "    certifi-2023.5.7           |     pyhd8ed1ab_0         149 KB  conda-forge\n",
            "    conda-23.3.1               |  py310hff52083_0         941 KB  conda-forge\n",
            "    glpk-5.0                   |       h445213a_0        1023 KB  conda-forge\n",
            "    gmp-6.2.1                  |       h58526e2_0         806 KB  conda-forge\n",
            "    jsonpatch-1.32             |     pyhd8ed1ab_0          14 KB  conda-forge\n",
            "    jsonpointer-2.0            |             py_0           9 KB  conda-forge\n",
            "    openssl-3.1.1              |       hd590300_1         2.5 MB  conda-forge\n",
            "    packaging-23.1             |     pyhd8ed1ab_0          45 KB  conda-forge\n",
            "    ------------------------------------------------------------\n",
            "                                           Total:         5.9 MB\n",
            "\n",
            "The following NEW packages will be INSTALLED:\n",
            "\n",
            "  boltons            conda-forge/noarch::boltons-23.0.0-pyhd8ed1ab_0 \n",
            "  glpk               conda-forge/linux-64::glpk-5.0-h445213a_0 \n",
            "  gmp                conda-forge/linux-64::gmp-6.2.1-h58526e2_0 \n",
            "  jsonpatch          conda-forge/noarch::jsonpatch-1.32-pyhd8ed1ab_0 \n",
            "  jsonpointer        conda-forge/noarch::jsonpointer-2.0-py_0 \n",
            "  packaging          conda-forge/noarch::packaging-23.1-pyhd8ed1ab_0 \n",
            "\n",
            "The following packages will be UPDATED:\n",
            "\n",
            "  ca-certificates                      2022.12.7-ha878542_0 --> 2023.5.7-hbcca054_0 \n",
            "  certifi                            2022.12.7-pyhd8ed1ab_0 --> 2023.5.7-pyhd8ed1ab_0 \n",
            "  conda                              23.1.0-py310hff52083_0 --> 23.3.1-py310hff52083_0 \n",
            "  openssl                                  3.1.0-h0b41bf4_0 --> 3.1.1-hd590300_1 \n",
            "\n",
            "\n",
            "\n",
            "Downloading and Extracting Packages\n",
            "gmp-6.2.1            | 806 KB    | :   0% 0/1 [00:00<?, ?it/s]\n",
            "certifi-2023.5.7     | 149 KB    | :   0% 0/1 [00:00<?, ?it/s]\u001b[A\n",
            "\n",
            "openssl-3.1.1        | 2.5 MB    | :   0% 0/1 [00:00<?, ?it/s]\u001b[A\u001b[A\n",
            "\n",
            "\n",
            "ca-certificates-2023 | 145 KB    | :   0% 0/1 [00:00<?, ?it/s]\u001b[A\u001b[A\u001b[A\n",
            "\n",
            "\n",
            "\n",
            "packaging-23.1       | 45 KB     | :   0% 0/1 [00:00<?, ?it/s]\u001b[A\u001b[A\u001b[A\u001b[A\n",
            "\n",
            "\n",
            "\n",
            "\n",
            "conda-23.3.1         | 941 KB    | :   0% 0/1 [00:00<?, ?it/s]\u001b[A\u001b[A\u001b[A\u001b[A\u001b[A\n",
            "\n",
            "\n",
            "\n",
            "\n",
            "\n",
            "boltons-23.0.0       | 296 KB    | :   0% 0/1 [00:00<?, ?it/s]\u001b[A\u001b[A\u001b[A\u001b[A\u001b[A\u001b[A\n",
            "\n",
            "\n",
            "\n",
            "\n",
            "\n",
            "\n",
            "glpk-5.0             | 1023 KB   | :   0% 0/1 [00:00<?, ?it/s]\u001b[A\u001b[A\u001b[A\u001b[A\u001b[A\u001b[A\u001b[A\n",
            "\n",
            "\n",
            "\n",
            "\n",
            "\n",
            "\n",
            "\n",
            "jsonpointer-2.0      | 9 KB      | :   0% 0/1 [00:00<?, ?it/s]\u001b[A\u001b[A\u001b[A\u001b[A\u001b[A\u001b[A\u001b[A\u001b[A\n",
            "\n",
            "\n",
            "\n",
            "\n",
            "\n",
            "\n",
            "\n",
            "\n",
            "gmp-6.2.1            | 806 KB    | :   2% 0.019840539414665338/1 [00:00<00:05,  5.98s/it]\n",
            "certifi-2023.5.7     | 149 KB    | :  11% 0.10751855521941424/1 [00:00<00:00,  1.10s/it]\u001b[A\n",
            "\n",
            "openssl-3.1.1        | 2.5 MB    | :   1% 0.006200398045572774/1 [00:00<00:21, 21.43s/it]\u001b[A\u001b[A\n",
            "\n",
            "\n",
            "ca-certificates-2023 | 145 KB    | :  11% 0.1104340792666487/1 [00:00<00:01,  1.24s/it]\u001b[A\u001b[A\u001b[A\n",
            "\n",
            "\n",
            "\n",
            "packaging-23.1       | 45 KB     | :  36% 0.3554167208989544/1 [00:00<00:00,  2.52it/s]\u001b[A\u001b[A\u001b[A\u001b[A\n",
            "\n",
            "\n",
            "\n",
            "\n",
            "conda-23.3.1         | 941 KB    | :   2% 0.01699687325585979/1 [00:00<00:08,  9.11s/it]\u001b[A\u001b[A\u001b[A\u001b[A\u001b[A\n",
            "\n",
            "\n",
            "\n",
            "\n",
            "\n",
            "boltons-23.0.0       | 296 KB    | :   5% 0.054111360281125426/1 [00:00<00:03,  3.30s/it]\u001b[A\u001b[A\u001b[A\u001b[A\u001b[A\u001b[A\n",
            "\n",
            "\n",
            "\n",
            "\n",
            "\n",
            "\n",
            "glpk-5.0             | 1023 KB   | :   2% 0.01564415654850796/1 [00:00<00:12, 12.84s/it]\u001b[A\u001b[A\u001b[A\u001b[A\u001b[A\u001b[A\u001b[A\n",
            "certifi-2023.5.7     | 149 KB    | : 100% 1.0/1 [00:00<00:00,  1.10s/it]                \u001b[A\n",
            "\n",
            "openssl-3.1.1        | 2.5 MB    | :  49% 0.48983144560024916/1 [00:00<00:00,  2.52it/s] \u001b[A\u001b[A\n",
            "\n",
            "\n",
            "\n",
            "\n",
            "\n",
            "\n",
            "\n",
            "jsonpointer-2.0      | 9 KB      | : 100% 1.0/1 [00:00<00:00,  4.40it/s]\u001b[A\u001b[A\u001b[A\u001b[A\u001b[A\u001b[A\u001b[A\u001b[A\n",
            "\n",
            "\n",
            "\n",
            "\n",
            "\n",
            "\n",
            "\n",
            "\n",
            "jsonpatch-1.32       | 14 KB     | : 100% 1.0/1 [00:00<00:00,  4.31it/s]\u001b[A\u001b[A\u001b[A\u001b[A\u001b[A\u001b[A\u001b[A\u001b[A\u001b[A\n",
            "\n",
            "\n",
            "ca-certificates-2023 | 145 KB    | : 100% 1.0/1 [00:00<00:00,  4.18it/s]               \u001b[A\u001b[A\u001b[A\n",
            "\n",
            "\n",
            "ca-certificates-2023 | 145 KB    | : 100% 1.0/1 [00:00<00:00,  4.18it/s]\u001b[A\u001b[A\u001b[A\n",
            "\n",
            "\n",
            "\n",
            "packaging-23.1       | 45 KB     | : 100% 1.0/1 [00:00<00:00,  3.44it/s]               \u001b[A\u001b[A\u001b[A\u001b[A\n",
            "\n",
            "\n",
            "\n",
            "packaging-23.1       | 45 KB     | : 100% 1.0/1 [00:00<00:00,  3.44it/s]\u001b[A\u001b[A\u001b[A\u001b[A\n",
            "\n",
            "\n",
            "\n",
            "\n",
            "\n",
            "boltons-23.0.0       | 296 KB    | : 100% 1.0/1 [00:00<00:00,  2.69it/s]                 \u001b[A\u001b[A\u001b[A\u001b[A\u001b[A\u001b[A\n",
            "\n",
            "\n",
            "\n",
            "\n",
            "\n",
            "gmp-6.2.1            | 806 KB    | : 100% 1.0/1 [00:00<00:00,  1.41it/s]\n",
            "\n",
            "\n",
            "\n",
            "\n",
            "\n",
            "\n",
            "\n",
            "jsonpointer-2.0      | 9 KB      | : 100% 1.0/1 [00:00<00:00,  4.40it/s]\u001b[A\u001b[A\u001b[A\u001b[A\u001b[A\u001b[A\u001b[A\u001b[A\n",
            "\n",
            "\n",
            "\n",
            "\n",
            "\n",
            "\n",
            "\n",
            "\n",
            "jsonpatch-1.32       | 14 KB     | : 100% 1.0/1 [00:00<00:00,  4.31it/s]\u001b[A\u001b[A\u001b[A\u001b[A\u001b[A\u001b[A\u001b[A\u001b[A\u001b[A\n",
            "\n",
            "\n",
            "\n",
            "\n",
            "conda-23.3.1         | 941 KB    | : 100% 1.0/1 [00:00<00:00,  1.35it/s]                \u001b[A\u001b[A\u001b[A\u001b[A\u001b[A\n",
            "\n",
            "\n",
            "\n",
            "\n",
            "conda-23.3.1         | 941 KB    | : 100% 1.0/1 [00:00<00:00,  1.35it/s]\u001b[A\u001b[A\u001b[A\u001b[A\u001b[A\n",
            "\n",
            "openssl-3.1.1        | 2.5 MB    | : 100% 1.0/1 [00:00<00:00,  1.00s/it]                \u001b[A\u001b[A\n",
            "\n",
            "openssl-3.1.1        | 2.5 MB    | : 100% 1.0/1 [00:00<00:00,  1.00s/it]\u001b[A\u001b[A\n",
            "\n",
            "\n",
            "\n",
            "\n",
            "\n",
            "\n",
            "glpk-5.0             | 1023 KB   | : 100% 1.0/1 [00:01<00:00,  1.00it/s]                \u001b[A\u001b[A\u001b[A\u001b[A\u001b[A\u001b[A\u001b[A\n",
            "\n",
            "\n",
            "\n",
            "\n",
            "\n",
            "\n",
            "                                                                        \n",
            "                                                                        \u001b[A\n",
            "\n",
            "                                                                        \u001b[A\u001b[A\n",
            "\n",
            "\n",
            "                                                                        \u001b[A\u001b[A\u001b[A\n",
            "\n",
            "\n",
            "\n",
            "                                                                        \u001b[A\u001b[A\u001b[A\u001b[A\n",
            "\n",
            "\n",
            "\n",
            "\n",
            "                                                                        \u001b[A\u001b[A\u001b[A\u001b[A\u001b[A\n",
            "\n",
            "\n",
            "\n",
            "\n",
            "\n",
            "                                                                        \u001b[A\u001b[A\u001b[A\u001b[A\u001b[A\u001b[A\n",
            "\n",
            "\n",
            "\n",
            "\n",
            "\n",
            "\n",
            "                                                                        \u001b[A\u001b[A\u001b[A\u001b[A\u001b[A\u001b[A\u001b[A\n",
            "\n",
            "\n",
            "\n",
            "\n",
            "\n",
            "\n",
            "\n",
            "                                                                        \u001b[A\u001b[A\u001b[A\u001b[A\u001b[A\u001b[A\u001b[A\u001b[A\n",
            "\n",
            "\n",
            "\n",
            "\n",
            "\n",
            "\n",
            "\n",
            "\n",
            "                                                                        \u001b[A\u001b[A\u001b[A\u001b[A\u001b[A\u001b[A\u001b[A\u001b[A\u001b[A\n",
            "Preparing transaction: / \b\bdone\n",
            "Verifying transaction: \\ \b\b| \b\bdone\n",
            "Executing transaction: - \b\b\\ \b\b| \b\b/ \b\b- \b\b\\ \b\b| \b\b/ \b\b- \b\b\\ \b\b| \b\b/ \b\b- \b\b\\ \b\bdone\n"
          ]
        }
      ]
    },
    {
      "cell_type": "markdown",
      "source": [
        "#Code"
      ],
      "metadata": {
        "id": "x3He_HrUxXMR"
      }
    },
    {
      "cell_type": "code",
      "source": [
        "import pyomo.environ as pyo\n",
        "\n",
        "from pyomo.opt import SolverFactory\n",
        "\n",
        "model= pyo.ConcreteModel()\n",
        "\n",
        "#parameters and sets\n",
        "model.setInv = pyo.Set(initialize=['A','B','C'])\n",
        "model.capital =10000\n",
        "\n",
        "#Variables\n",
        "model.C= pyo.Var(model.setInv, bounds=(0,None))\n",
        "model.R= pyo.Var(model.setInv, bounds=(0,None))\n",
        "\n",
        "c= model.C\n",
        "r= model.R\n",
        "\n",
        "#objective function\n",
        "model.obj = pyo.Objective(expr = pyo.summation(r), sense=pyo.maximize)\n",
        "\n",
        "#Constraints\n",
        "\n",
        "model.C1 = pyo.Constraint(expr = pyo.summation(c) == model.capital)\n",
        "\n",
        "\n",
        "model.C2 = pyo.Constraint(expr = r['A'] == 0.05*c['A'])\n",
        "\n",
        "model.C3 = pyo.Constraint(expr = r['B'] == 0.1*c['B'])\n",
        "\n",
        "model.C4 = pyo.Constraint(expr = r['C'] == 0.12*c['C'])\n",
        "\n",
        "model.C5 = pyo.Constraint(expr = c['B'] <= 0.2*model.capital)\n",
        "\n",
        "model.C6 = pyo.Constraint(expr = c['C'] <= 0.1*model.capital)\n",
        "\n",
        "#Solver\n",
        "\n",
        "opt= SolverFactory(('glpk'))\n",
        "model.results= opt.solve(model)\n",
        "\n",
        "m.pprint()\n",
        "print('\\n\\nOF:',pyo.value(model.obj))\n",
        "\n"
      ],
      "metadata": {
        "colab": {
          "base_uri": "https://localhost:8080/"
        },
        "id": "OeDDFj26xXwZ",
        "outputId": "14800411-2cb3-4b5e-c3be-c2b3d4b8a7d5"
      },
      "execution_count": null,
      "outputs": [
        {
          "output_type": "stream",
          "name": "stdout",
          "text": [
            "1 Set Declarations\n",
            "    setInv : Size=1, Index=None, Ordered=Insertion\n",
            "        Key  : Dimen : Domain : Size : Members\n",
            "        None :     1 :    Any :    3 : {'A', 'B', 'C'}\n",
            "\n",
            "2 Var Declarations\n",
            "    C : Size=3, Index=setInv\n",
            "        Key : Lower : Value   : Upper : Fixed : Stale : Domain\n",
            "          A :     0 : 70000.0 :  None : False :  True :  Reals\n",
            "          B :     0 : 20000.0 :  None : False :  True :  Reals\n",
            "          C :     0 : 10000.0 :  None : False :  True :  Reals\n",
            "    R : Size=3, Index=setInv\n",
            "        Key : Lower : Value  : Upper : Fixed : Stale : Domain\n",
            "          A :     0 : 3500.0 :  None : False :  True :  Reals\n",
            "          B :     0 : 2000.0 :  None : False :  True :  Reals\n",
            "          C :     0 : 1200.0 :  None : False :  True :  Reals\n",
            "\n",
            "1 Objective Declarations\n",
            "    obj : Size=1, Index=None, Active=True\n",
            "        Key  : Active : Sense    : Expression\n",
            "        None :   True : maximize : R[A] + R[B] + R[C]\n",
            "\n",
            "6 Constraint Declarations\n",
            "    C1 : Size=1, Index=None, Active=True\n",
            "        Key  : Lower    : Body               : Upper    : Active\n",
            "        None : 100000.0 : C[A] + C[B] + C[C] : 100000.0 :   True\n",
            "    C2 : Size=1, Index=None, Active=True\n",
            "        Key  : Lower : Body             : Upper : Active\n",
            "        None :   0.0 : R[A] - 0.05*C[A] :   0.0 :   True\n",
            "    C3 : Size=1, Index=None, Active=True\n",
            "        Key  : Lower : Body            : Upper : Active\n",
            "        None :   0.0 : R[B] - 0.1*C[B] :   0.0 :   True\n",
            "    C4 : Size=1, Index=None, Active=True\n",
            "        Key  : Lower : Body             : Upper : Active\n",
            "        None :   0.0 : R[C] - 0.12*C[C] :   0.0 :   True\n",
            "    C5 : Size=1, Index=None, Active=True\n",
            "        Key  : Lower : Body : Upper   : Active\n",
            "        None :  -Inf : C[B] : 20000.0 :   True\n",
            "    C6 : Size=1, Index=None, Active=True\n",
            "        Key  : Lower : Body : Upper   : Active\n",
            "        None :  -Inf : C[C] : 10000.0 :   True\n",
            "\n",
            "10 Declarations: setInv C R obj C1 C2 C3 C4 C5 C6\n",
            "\n",
            "\n",
            "OF: 670.0\n"
          ]
        }
      ]
    }
  ]
}