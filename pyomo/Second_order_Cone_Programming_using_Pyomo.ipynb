{
  "nbformat": 4,
  "nbformat_minor": 0,
  "metadata": {
    "colab": {
      "provenance": []
    },
    "kernelspec": {
      "name": "python3",
      "display_name": "Python 3"
    },
    "language_info": {
      "name": "python"
    }
  },
  "cells": [
    {
      "cell_type": "markdown",
      "source": [
        "#Problem\n",
        "\n",
        "Suppose that you have 3 machines to manufacture shoes and the cost of each machine is :\n",
        "\n",
        "C1= 0.1*n1^2 +2*n1\n",
        "\n",
        "C2= 6*n2\n",
        "\n",
        "c3=7*n3\n",
        "\n",
        "\n",
        "where Ci is cost for production  of machine i ,\n",
        "\n",
        "ni is the number of shows manufactured in machine\n",
        "\n",
        "each machine has a limit of production of 1000 shoes\n",
        "\n",
        "for a total production of 2100 shoes, how many shoes should each machine made in order to minimize the total cost?"
      ],
      "metadata": {
        "id": "hlKmIZyvjMbZ"
      }
    },
    {
      "cell_type": "markdown",
      "source": [
        "#Solution"
      ],
      "metadata": {
        "id": "zsI3zivYiuIu"
      }
    },
    {
      "cell_type": "markdown",
      "source": [
        "objective Function : min C1+C2+C3\n",
        "\n",
        "Constraints:\n",
        "\n",
        "n1+n2+n3= 2100\n",
        "\n",
        "C1= 0.1n1^2 +2n1\n",
        "\n",
        "C2= 6n2\n",
        "\n",
        "c3=7n3\n",
        "\n",
        "0 <= n1,n2,n3 <=1000"
      ],
      "metadata": {
        "id": "1zJ8wuFgiv6I"
      }
    },
    {
      "cell_type": "markdown",
      "source": [
        "we can use non-linear solver here but we can also use linear solver like gurobi"
      ],
      "metadata": {
        "id": "ICTZFkcmkVFJ"
      }
    },
    {
      "cell_type": "markdown",
      "source": [
        "#installation of pyomo"
      ],
      "metadata": {
        "id": "LzR8Gjc_lMsi"
      }
    },
    {
      "cell_type": "code",
      "execution_count": null,
      "metadata": {
        "colab": {
          "base_uri": "https://localhost:8080/"
        },
        "id": "XFu_ra38h0Dk",
        "outputId": "6572340f-f8f3-4cc0-fd65-9ad8bdc1fc9f"
      },
      "outputs": [
        {
          "output_type": "stream",
          "name": "stdout",
          "text": [
            "⏬ Downloading https://github.com/conda-forge/miniforge/releases/download/23.1.0-1/Mambaforge-23.1.0-1-Linux-x86_64.sh...\n",
            "📦 Installing...\n",
            "📌 Adjusting configuration...\n",
            "🩹 Patching environment...\n",
            "⏲ Done in 0:00:11\n",
            "🔁 Restarting kernel...\n"
          ]
        }
      ],
      "source": [
        " !pip install -q condacolab\n",
        "import condacolab\n",
        "condacolab.install()"
      ]
    },
    {
      "cell_type": "code",
      "source": [
        "!pip install pyomo"
      ],
      "metadata": {
        "colab": {
          "base_uri": "https://localhost:8080/"
        },
        "id": "R3C6l7CglOtz",
        "outputId": "dc24251a-19db-4e33-d5d3-d4b4eb40fc7e"
      },
      "execution_count": null,
      "outputs": [
        {
          "output_type": "stream",
          "name": "stdout",
          "text": [
            "Looking in indexes: https://pypi.org/simple, https://us-python.pkg.dev/colab-wheels/public/simple/\n",
            "Collecting pyomo\n",
            "  Downloading Pyomo-6.6.1-cp310-cp310-manylinux_2_17_x86_64.manylinux2014_x86_64.whl (11.9 MB)\n",
            "\u001b[2K     \u001b[90m━━━━━━━━━━━━━━━━━━━━━━━━━━━━━━━━━━━━━━━━\u001b[0m \u001b[32m11.9/11.9 MB\u001b[0m \u001b[31m74.3 MB/s\u001b[0m eta \u001b[36m0:00:00\u001b[0m\n",
            "\u001b[?25hCollecting ply\n",
            "  Downloading ply-3.11-py2.py3-none-any.whl (49 kB)\n",
            "\u001b[2K     \u001b[90m━━━━━━━━━━━━━━━━━━━━━━━━━━━━━━━━━━━━━━━━\u001b[0m \u001b[32m49.6/49.6 kB\u001b[0m \u001b[31m4.8 MB/s\u001b[0m eta \u001b[36m0:00:00\u001b[0m\n",
            "\u001b[?25hInstalling collected packages: ply, pyomo\n",
            "Successfully installed ply-3.11 pyomo-6.6.1\n",
            "\u001b[33mWARNING: Running pip as the 'root' user can result in broken permissions and conflicting behaviour with the system package manager. It is recommended to use a virtual environment instead: https://pip.pypa.io/warnings/venv\u001b[0m\u001b[33m\n",
            "\u001b[0m"
          ]
        }
      ]
    },
    {
      "cell_type": "code",
      "source": [
        "!conda install -c conda-forge glpk"
      ],
      "metadata": {
        "colab": {
          "base_uri": "https://localhost:8080/"
        },
        "id": "U0d3-1x0lSst",
        "outputId": "6534d7bd-238a-4ae2-e79b-ec6e68d275e4"
      },
      "execution_count": null,
      "outputs": [
        {
          "output_type": "stream",
          "name": "stdout",
          "text": [
            "Collecting package metadata (current_repodata.json): - \b\b\\ \b\b| \b\b/ \b\b- \b\b\\ \b\b| \b\b/ \b\b- \b\b\\ \b\b| \b\b/ \b\b- \b\b\\ \b\b| \b\b/ \b\b- \b\b\\ \b\b| \b\b/ \b\b- \b\b\\ \b\b| \b\b/ \b\b- \b\b\\ \b\b| \b\b/ \b\b- \b\b\\ \b\b| \b\b/ \b\b- \b\b\\ \b\b| \b\b/ \b\b- \b\b\\ \b\b| \b\b/ \b\b- \b\b\\ \b\b| \b\b/ \b\b- \b\b\\ \b\b| \b\b/ \b\b- \b\b\\ \b\b| \b\b/ \b\b- \b\b\\ \b\b| \b\b/ \b\b- \b\b\\ \b\b| \b\b/ \b\b- \b\b\\ \b\b| \b\b/ \b\b- \b\b\\ \b\b| \b\b/ \b\b- \b\b\\ \b\b| \b\b/ \b\b- \b\b\\ \b\b| \b\b/ \b\b- \b\b\\ \b\b| \b\b/ \b\b- \b\b\\ \b\b| \b\b/ \b\b- \b\b\\ \b\b| \b\b/ \b\b- \b\b\\ \b\b| \b\b/ \b\b- \b\b\\ \b\b| \b\b/ \b\b- \b\b\\ \b\b| \b\b/ \b\b- \b\b\\ \b\b| \b\b/ \b\b- \b\b\\ \b\b| \b\b/ \b\b- \b\b\\ \b\b| \b\b/ \b\b- \b\b\\ \b\b| \b\b/ \b\b- \b\b\\ \b\b| \b\b/ \b\b- \b\b\\ \b\b| \b\b/ \b\b- \b\b\\ \b\b| \b\b/ \b\b- \b\b\\ \b\b| \b\b/ \b\b- \b\b\\ \b\bdone\n",
            "Solving environment: / \b\b- \b\b\\ \b\b| \b\b/ \b\b- \b\b\\ \b\b| \b\b/ \b\bdone\n",
            "\n",
            "## Package Plan ##\n",
            "\n",
            "  environment location: /usr/local\n",
            "\n",
            "  added / updated specs:\n",
            "    - glpk\n",
            "\n",
            "\n",
            "The following packages will be downloaded:\n",
            "\n",
            "    package                    |            build\n",
            "    ---------------------------|-----------------\n",
            "    boltons-23.0.0             |     pyhd8ed1ab_0         296 KB  conda-forge\n",
            "    ca-certificates-2023.5.7   |       hbcca054_0         145 KB  conda-forge\n",
            "    certifi-2023.5.7           |     pyhd8ed1ab_0         149 KB  conda-forge\n",
            "    conda-23.3.1               |  py310hff52083_0         941 KB  conda-forge\n",
            "    glpk-5.0                   |       h445213a_0        1023 KB  conda-forge\n",
            "    gmp-6.2.1                  |       h58526e2_0         806 KB  conda-forge\n",
            "    jsonpatch-1.32             |     pyhd8ed1ab_0          14 KB  conda-forge\n",
            "    jsonpointer-2.0            |             py_0           9 KB  conda-forge\n",
            "    openssl-3.1.1              |       hd590300_1         2.5 MB  conda-forge\n",
            "    packaging-23.1             |     pyhd8ed1ab_0          45 KB  conda-forge\n",
            "    ------------------------------------------------------------\n",
            "                                           Total:         5.9 MB\n",
            "\n",
            "The following NEW packages will be INSTALLED:\n",
            "\n",
            "  boltons            conda-forge/noarch::boltons-23.0.0-pyhd8ed1ab_0 \n",
            "  glpk               conda-forge/linux-64::glpk-5.0-h445213a_0 \n",
            "  gmp                conda-forge/linux-64::gmp-6.2.1-h58526e2_0 \n",
            "  jsonpatch          conda-forge/noarch::jsonpatch-1.32-pyhd8ed1ab_0 \n",
            "  jsonpointer        conda-forge/noarch::jsonpointer-2.0-py_0 \n",
            "  packaging          conda-forge/noarch::packaging-23.1-pyhd8ed1ab_0 \n",
            "\n",
            "The following packages will be UPDATED:\n",
            "\n",
            "  ca-certificates                      2022.12.7-ha878542_0 --> 2023.5.7-hbcca054_0 \n",
            "  certifi                            2022.12.7-pyhd8ed1ab_0 --> 2023.5.7-pyhd8ed1ab_0 \n",
            "  conda                              23.1.0-py310hff52083_0 --> 23.3.1-py310hff52083_0 \n",
            "  openssl                                  3.1.0-h0b41bf4_0 --> 3.1.1-hd590300_1 \n",
            "\n",
            "\n",
            "\n",
            "Downloading and Extracting Packages\n",
            "jsonpatch-1.32       | 14 KB     | :   0% 0/1 [00:00<?, ?it/s]\n",
            "ca-certificates-2023 | 145 KB    | :   0% 0/1 [00:00<?, ?it/s]\u001b[A\n",
            "\n",
            "gmp-6.2.1            | 806 KB    | :   0% 0/1 [00:00<?, ?it/s]\u001b[A\u001b[A\n",
            "\n",
            "\n",
            "certifi-2023.5.7     | 149 KB    | :   0% 0/1 [00:00<?, ?it/s]\u001b[A\u001b[A\u001b[A\n",
            "\n",
            "\n",
            "\n",
            "boltons-23.0.0       | 296 KB    | :   0% 0/1 [00:00<?, ?it/s]\u001b[A\u001b[A\u001b[A\u001b[A\n",
            "\n",
            "\n",
            "\n",
            "\n",
            "openssl-3.1.1        | 2.5 MB    | :   0% 0/1 [00:00<?, ?it/s]\u001b[A\u001b[A\u001b[A\u001b[A\u001b[A\n",
            "\n",
            "\n",
            "\n",
            "\n",
            "\n",
            "glpk-5.0             | 1023 KB   | :   0% 0/1 [00:00<?, ?it/s]\u001b[A\u001b[A\u001b[A\u001b[A\u001b[A\u001b[A\n",
            "\n",
            "\n",
            "\n",
            "\n",
            "\n",
            "\n",
            "jsonpointer-2.0      | 9 KB      | :   0% 0/1 [00:00<?, ?it/s]\u001b[A\u001b[A\u001b[A\u001b[A\u001b[A\u001b[A\u001b[A\n",
            "\n",
            "\n",
            "\n",
            "\n",
            "\n",
            "\n",
            "\n",
            "conda-23.3.1         | 941 KB    | :   0% 0/1 [00:00<?, ?it/s]\u001b[A\u001b[A\u001b[A\u001b[A\u001b[A\u001b[A\u001b[A\u001b[A\n",
            "\n",
            "\n",
            "\n",
            "\n",
            "\n",
            "\n",
            "\n",
            "\n",
            "jsonpatch-1.32       | 14 KB     | : 100% 1.0/1 [00:00<00:00,  8.20it/s]\n",
            "jsonpatch-1.32       | 14 KB     | : 100% 1.0/1 [00:00<00:00,  8.20it/s]\n",
            "\n",
            "\n",
            "\n",
            "boltons-23.0.0       | 296 KB    | :   5% 0.054111360281125426/1 [00:00<00:02,  2.61s/it]\u001b[A\u001b[A\u001b[A\u001b[A\n",
            "\n",
            "gmp-6.2.1            | 806 KB    | :   2% 0.019840539414665338/1 [00:00<00:07,  7.44s/it]\u001b[A\u001b[A\n",
            "\n",
            "\n",
            "\n",
            "\n",
            "openssl-3.1.1        | 2.5 MB    | :   1% 0.006200398045572774/1 [00:00<00:22, 22.65s/it]\u001b[A\u001b[A\u001b[A\u001b[A\u001b[A\n",
            "\n",
            "\n",
            "certifi-2023.5.7     | 149 KB    | :  11% 0.10751855521941424/1 [00:00<00:01,  1.39s/it]\u001b[A\u001b[A\u001b[A\n",
            "ca-certificates-2023 | 145 KB    | : 100% 1.0/1 [00:00<00:00,  1.20s/it]               \u001b[A\n",
            "\n",
            "\n",
            "\n",
            "\n",
            "\n",
            "\n",
            "jsonpointer-2.0      | 9 KB      | : 100% 1.0/1 [00:00<00:00,  5.01it/s]\u001b[A\u001b[A\u001b[A\u001b[A\u001b[A\u001b[A\u001b[A\n",
            "\n",
            "\n",
            "\n",
            "\n",
            "\n",
            "glpk-5.0             | 1023 KB   | :   2% 0.01564415654850796/1 [00:00<00:12, 12.91s/it]\u001b[A\u001b[A\u001b[A\u001b[A\u001b[A\u001b[A\n",
            "\n",
            "\n",
            "\n",
            "\n",
            "\n",
            "\n",
            "\n",
            "conda-23.3.1         | 941 KB    | :   2% 0.01699687325585979/1 [00:00<00:12, 12.35s/it]\u001b[A\u001b[A\u001b[A\u001b[A\u001b[A\u001b[A\u001b[A\u001b[A\n",
            "\n",
            "\n",
            "\n",
            "\n",
            "\n",
            "\n",
            "\n",
            "\n",
            "packaging-23.1       | 45 KB     | :  36% 0.3554167208989544/1 [00:00<00:00,  1.52it/s]\u001b[A\u001b[A\u001b[A\u001b[A\u001b[A\u001b[A\u001b[A\u001b[A\u001b[A\n",
            "\n",
            "\n",
            "certifi-2023.5.7     | 149 KB    | : 100% 1.0/1 [00:00<00:00,  1.39s/it]                \u001b[A\u001b[A\u001b[A\n",
            "\n",
            "\n",
            "\n",
            "\n",
            "openssl-3.1.1        | 2.5 MB    | :  71% 0.7068453771952963/1 [00:00<00:00,  3.51it/s]  \u001b[A\u001b[A\u001b[A\u001b[A\u001b[A\n",
            "\n",
            "\n",
            "\n",
            "boltons-23.0.0       | 296 KB    | : 100% 1.0/1 [00:00<00:00,  4.09it/s]                 \u001b[A\u001b[A\u001b[A\u001b[A\n",
            "\n",
            "\n",
            "\n",
            "boltons-23.0.0       | 296 KB    | : 100% 1.0/1 [00:00<00:00,  4.09it/s]\u001b[A\u001b[A\u001b[A\u001b[A\n",
            "\n",
            "\n",
            "\n",
            "\n",
            "\n",
            "\n",
            "jsonpointer-2.0      | 9 KB      | : 100% 1.0/1 [00:00<00:00,  5.01it/s]\u001b[A\u001b[A\u001b[A\u001b[A\u001b[A\u001b[A\u001b[A\n",
            "\n",
            "\n",
            "\n",
            "\n",
            "\n",
            "\n",
            "\n",
            "\n",
            "packaging-23.1       | 45 KB     | : 100% 1.0/1 [00:00<00:00,  1.52it/s]               \u001b[A\u001b[A\u001b[A\u001b[A\u001b[A\u001b[A\u001b[A\u001b[A\u001b[A\n",
            "\n",
            "gmp-6.2.1            | 806 KB    | : 100% 1.0/1 [00:00<00:00,  2.53it/s]                 \u001b[A\u001b[A\n",
            "\n",
            "gmp-6.2.1            | 806 KB    | : 100% 1.0/1 [00:00<00:00,  2.53it/s]\u001b[A\u001b[A\n",
            "\n",
            "\n",
            "\n",
            "\n",
            "\n",
            "glpk-5.0             | 1023 KB   | : 100% 1.0/1 [00:00<00:00,  1.98it/s]                \u001b[A\u001b[A\u001b[A\u001b[A\u001b[A\u001b[A\n",
            "\n",
            "\n",
            "\n",
            "\n",
            "\n",
            "glpk-5.0             | 1023 KB   | : 100% 1.0/1 [00:00<00:00,  1.98it/s]\u001b[A\u001b[A\u001b[A\u001b[A\u001b[A\u001b[A\n",
            "\n",
            "\n",
            "\n",
            "\n",
            "\n",
            "\n",
            "\n",
            "conda-23.3.1         | 941 KB    | : 100% 1.0/1 [00:00<00:00,  1.54it/s]                \u001b[A\u001b[A\u001b[A\u001b[A\u001b[A\u001b[A\u001b[A\u001b[A\n",
            "\n",
            "\n",
            "\n",
            "\n",
            "\n",
            "\n",
            "\n",
            "conda-23.3.1         | 941 KB    | : 100% 1.0/1 [00:00<00:00,  1.54it/s]\u001b[A\u001b[A\u001b[A\u001b[A\u001b[A\u001b[A\u001b[A\u001b[A\n",
            "\n",
            "\n",
            "\n",
            "\n",
            "                                                                        \n",
            "                                                                        \u001b[A\n",
            "\n",
            "                                                                        \u001b[A\u001b[A\n",
            "\n",
            "\n",
            "                                                                        \u001b[A\u001b[A\u001b[A\n",
            "\n",
            "\n",
            "\n",
            "                                                                        \u001b[A\u001b[A\u001b[A\u001b[A\n",
            "\n",
            "\n",
            "\n",
            "\n",
            "                                                                        \u001b[A\u001b[A\u001b[A\u001b[A\u001b[A\n",
            "\n",
            "\n",
            "\n",
            "\n",
            "\n",
            "                                                                        \u001b[A\u001b[A\u001b[A\u001b[A\u001b[A\u001b[A\n",
            "\n",
            "\n",
            "\n",
            "\n",
            "\n",
            "\n",
            "                                                                        \u001b[A\u001b[A\u001b[A\u001b[A\u001b[A\u001b[A\u001b[A\n",
            "\n",
            "\n",
            "\n",
            "\n",
            "\n",
            "\n",
            "\n",
            "                                                                        \u001b[A\u001b[A\u001b[A\u001b[A\u001b[A\u001b[A\u001b[A\u001b[A\n",
            "\n",
            "\n",
            "\n",
            "\n",
            "\n",
            "\n",
            "\n",
            "\n",
            "                                                                        \u001b[A\u001b[A\u001b[A\u001b[A\u001b[A\u001b[A\u001b[A\u001b[A\u001b[A\n",
            "Preparing transaction: \\ \b\bdone\n",
            "Verifying transaction: / \b\b- \b\bdone\n",
            "Executing transaction: | \b\b/ \b\b- \b\b\\ \b\b| \b\b/ \b\b- \b\b\\ \b\b| \b\b/ \b\b- \b\b\\ \b\b| \b\b/ \b\bdone\n"
          ]
        }
      ]
    },
    {
      "cell_type": "markdown",
      "source": [
        "#Solver"
      ],
      "metadata": {
        "id": "oo8xnAiImBIY"
      }
    },
    {
      "cell_type": "markdown",
      "source": [
        "Need Solver couenne.....Cause gurobi will work...glpk a"
      ],
      "metadata": {
        "id": "GQ3BGVZfos1r"
      }
    },
    {
      "cell_type": "code",
      "source": [
        "%%capture\n",
        "import sys\n",
        "import os\n",
        "\n",
        "if 'google.colab' in sys.modules:\n",
        "    !pip install idaes-pse --pre\n",
        "    !idaes get-extensions --to ./bin\n",
        "    os.environ['PATH'] += ':bin'"
      ],
      "metadata": {
        "id": "YqYvviSVpggY"
      },
      "execution_count": null,
      "outputs": []
    },
    {
      "cell_type": "markdown",
      "source": [
        "#Code"
      ],
      "metadata": {
        "id": "Wo1SQ8WKpWu7"
      }
    },
    {
      "cell_type": "code",
      "source": [
        "import pyomo.environ as pyo, numpy as np\n",
        "from pyomo.environ import *\n",
        "from pyomo.opt import SolverFactory\n",
        "\n",
        "#creation of the model and variables\n",
        "model = pyo.ConcreteModel()\n",
        "model.C = pyo.Var(range(1,4)) #here C is the machine's cost\n",
        "model.n = pyo.Var(range(1,4), within=Integers, bounds=(0,1000)) #n number of shoes #care about the sequence\n",
        "\n",
        "C = model.C\n",
        "n = model.n\n",
        "\n",
        "#objective function\n",
        "model.obj = pyo.Objective(expr = pyo.summation(C)) #or (expr= C[1]+C[2]+C[3])\n",
        "\n",
        "#constraint\n",
        "model.total = pyo.Constraint(expr = pyo.summation(n) == 2100) # (expr =  n[1]+n[2]+n[3]==2100)\n",
        "model.C1 = pyo.Constraint(expr = C[1] == 0.01*n[1]*n[1] + 2*n[1])\n",
        "model.C2 = pyo.Constraint(expr = C[2] == 6*n[2])\n",
        "model.C3 = pyo.Constraint(expr = C[3] == 7*n[3])\n",
        "\n",
        "#solve\n",
        "opt = SolverFactory('couenne', executable= '/content/bin/couenne') #gurobi is better,  glpk & cbc won't  work\n",
        "opt.solve(model)\n",
        "\n",
        "#print\n",
        "print('n1', pyo.value(n[1]))\n",
        "print('n2', pyo.value(n[2]))\n",
        "print('n3', pyo.value(n[3]))\n",
        "print('nTotal', pyo.value(pyo.summation(n)))\n",
        "\n",
        "print('C1', pyo.value(C[1]))\n",
        "print('C2', pyo.value(C[2]))\n",
        "print('C3', pyo.value(C[3]))\n",
        "print('CTotal', pyo.value(pyo.summation(C)))\n",
        "\n"
      ],
      "metadata": {
        "colab": {
          "base_uri": "https://localhost:8080/"
        },
        "id": "YdWVZLOilWRP",
        "outputId": "41cd39d0-9387-4382-84ea-f991198bf1e1"
      },
      "execution_count": null,
      "outputs": [
        {
          "output_type": "stream",
          "name": "stdout",
          "text": [
            "n1 250.0\n",
            "n2 1000.0\n",
            "n3 850.0\n",
            "nTotal 2100.0\n",
            "C1 1125.0\n",
            "C2 6000.0\n",
            "C3 5950.0\n",
            "CTotal 13075.0\n"
          ]
        }
      ]
    },
    {
      "cell_type": "code",
      "source": [],
      "metadata": {
        "id": "FDmzhHkwl7xm"
      },
      "execution_count": null,
      "outputs": []
    }
  ]
}