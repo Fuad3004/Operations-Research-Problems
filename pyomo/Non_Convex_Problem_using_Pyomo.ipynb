{
  "nbformat": 4,
  "nbformat_minor": 0,
  "metadata": {
    "colab": {
      "provenance": []
    },
    "kernelspec": {
      "name": "python3",
      "display_name": "Python 3"
    },
    "language_info": {
      "name": "python"
    }
  },
  "cells": [
    {
      "cell_type": "markdown",
      "source": [
        "Suppose that you have 3 machines to manufacture shoes and the cost of each machine is :\n",
        "\n",
        "C1= 0.1*n1^2 +2*n1\n",
        "\n",
        "C2= 6*n2*n1\n",
        "\n",
        "c3=7*n3\n",
        "\n",
        "where Ci is cost for production of machine i ,\n",
        "\n",
        "ni is the number of shows manufactured in machine\n",
        "\n",
        "each machine has a limit of production of 1000 shoes\n",
        "\n",
        "for a total production of 2100 shoes, how many shoes should each machine made in order to minimize the total cost?"
      ],
      "metadata": {
        "id": "NvsQszmZvx0Y"
      }
    },
    {
      "cell_type": "code",
      "execution_count": null,
      "metadata": {
        "id": "c3qxwx61vfk7"
      },
      "outputs": [],
      "source": []
    },
    {
      "cell_type": "markdown",
      "source": [
        "#Solution"
      ],
      "metadata": {
        "id": "zsI3zivYiuIu"
      }
    },
    {
      "cell_type": "markdown",
      "source": [
        "objective Function : min C1+C2+C3\n",
        "\n",
        "Constraints:\n",
        "\n",
        "n1+n2+n3= 2100\n",
        "\n",
        "C1= 0.1n1^2 +2n1\n",
        "\n",
        "C2= 6n2\n",
        "\n",
        "c3=7n3\n",
        "\n",
        "0 <= n1,n2,n3 <=1000"
      ],
      "metadata": {
        "id": "1zJ8wuFgiv6I"
      }
    },
    {
      "cell_type": "markdown",
      "source": [
        "#installation of pyomo"
      ],
      "metadata": {
        "id": "LzR8Gjc_lMsi"
      }
    },
    {
      "cell_type": "code",
      "source": [
        " !pip install -q condacolab\n",
        "import condacolab\n",
        "condacolab.install()"
      ],
      "metadata": {
        "colab": {
          "base_uri": "https://localhost:8080/"
        },
        "id": "1Iou1peHwLzu",
        "outputId": "92916391-04d8-4fb5-ecf6-80660a23b065"
      },
      "execution_count": null,
      "outputs": [
        {
          "output_type": "stream",
          "name": "stdout",
          "text": [
            "⏬ Downloading https://github.com/conda-forge/miniforge/releases/download/23.1.0-1/Mambaforge-23.1.0-1-Linux-x86_64.sh...\n",
            "📦 Installing...\n",
            "📌 Adjusting configuration...\n",
            "🩹 Patching environment...\n",
            "⏲ Done in 0:00:16\n",
            "🔁 Restarting kernel...\n"
          ]
        }
      ]
    },
    {
      "cell_type": "code",
      "source": [
        "!pip install pyomo"
      ],
      "metadata": {
        "colab": {
          "base_uri": "https://localhost:8080/"
        },
        "id": "RF1_9NOAwPLo",
        "outputId": "5a4c8de4-8c14-492c-a4b6-9f61d545360b"
      },
      "execution_count": null,
      "outputs": [
        {
          "output_type": "stream",
          "name": "stdout",
          "text": [
            "Looking in indexes: https://pypi.org/simple, https://us-python.pkg.dev/colab-wheels/public/simple/\n",
            "Collecting pyomo\n",
            "  Downloading Pyomo-6.6.1-cp310-cp310-manylinux_2_17_x86_64.manylinux2014_x86_64.whl (11.9 MB)\n",
            "\u001b[2K     \u001b[90m━━━━━━━━━━━━━━━━━━━━━━━━━━━━━━━━━━━━━━━━\u001b[0m \u001b[32m11.9/11.9 MB\u001b[0m \u001b[31m65.5 MB/s\u001b[0m eta \u001b[36m0:00:00\u001b[0m\n",
            "\u001b[?25hCollecting ply\n",
            "  Downloading ply-3.11-py2.py3-none-any.whl (49 kB)\n",
            "\u001b[2K     \u001b[90m━━━━━━━━━━━━━━━━━━━━━━━━━━━━━━━━━━━━━━━━\u001b[0m \u001b[32m49.6/49.6 kB\u001b[0m \u001b[31m5.4 MB/s\u001b[0m eta \u001b[36m0:00:00\u001b[0m\n",
            "\u001b[?25hInstalling collected packages: ply, pyomo\n",
            "Successfully installed ply-3.11 pyomo-6.6.1\n",
            "\u001b[33mWARNING: Running pip as the 'root' user can result in broken permissions and conflicting behaviour with the system package manager. It is recommended to use a virtual environment instead: https://pip.pypa.io/warnings/venv\u001b[0m\u001b[33m\n",
            "\u001b[0m"
          ]
        }
      ]
    },
    {
      "cell_type": "markdown",
      "source": [
        "#installation of Solver"
      ],
      "metadata": {
        "id": "xnPPQ7c8wL9O"
      }
    },
    {
      "cell_type": "code",
      "source": [
        "%%capture\n",
        "import sys\n",
        "import os\n",
        "\n",
        "if 'google.colab' in sys.modules:\n",
        "    !pip install idaes-pse --pre\n",
        "    !idaes get-extensions --to ./bin\n",
        "    os.environ['PATH'] += ':bin'"
      ],
      "metadata": {
        "id": "ZQp7Bdr4weAR"
      },
      "execution_count": null,
      "outputs": []
    },
    {
      "cell_type": "code",
      "source": [
        "import pyomo.environ as pyo, numpy as np\n",
        "from pyomo.environ import *\n",
        "from pyomo.opt import SolverFactory\n",
        "\n",
        "#creation of the model and variables\n",
        "model = pyo.ConcreteModel()\n",
        "model.C = pyo.Var(range(1,4)) #here C is the machine's cost\n",
        "model.n = pyo.Var(range(1,4), within=Integers, bounds=(0,1000)) #n number of shoes #care about the sequence\n",
        "\n",
        "C = model.C\n",
        "n = model.n\n",
        "\n",
        "#objective function\n",
        "model.obj = pyo.Objective(expr = pyo.summation(C)) #or (expr= C[1]+C[2]+C[3])\n",
        "\n",
        "#constraint\n",
        "model.total = pyo.Constraint(expr = pyo.summation(n) == 2100) # (expr =  n[1]+n[2]+n[3]==2100)\n",
        "model.C1 = pyo.Constraint(expr = C[1] == 0.01*n[1]*n[1] + 2*n[1])\n",
        "model.C2 = pyo.Constraint(expr = C[2] == 6*n[2]*n[1])\n",
        "model.C3 = pyo.Constraint(expr = C[3] == 7*n[3])\n",
        "\n",
        "#solve\n",
        "opt = SolverFactory('couenne', executable= '/content/bin/couenne') #gurobi is better,  glpk & cbc won't  work\n",
        "# opt.options['NonConvex']=2  #this is a parameter of gurobi, gurobi guarentee that it will be a global solution,\n",
        "opt.solve(model)\n",
        "\n",
        "#print\n",
        "print('n1', pyo.value(n[1]))\n",
        "print('n2', pyo.value(n[2]))\n",
        "print('n3', pyo.value(n[3]))\n",
        "print('nTotal', pyo.value(pyo.summation(n)))\n",
        "\n",
        "print('C1', pyo.value(C[1]))\n",
        "print('C2', pyo.value(C[2]))\n",
        "print('C3', pyo.value(C[3]))\n",
        "print('CTotal', pyo.value(pyo.summation(C)))\n",
        "\n"
      ],
      "metadata": {
        "colab": {
          "base_uri": "https://localhost:8080/"
        },
        "id": "FXm_u5lFwgS6",
        "outputId": "24be449a-fe66-4823-f6d0-d665a3c097ad"
      },
      "execution_count": null,
      "outputs": [
        {
          "output_type": "stream",
          "name": "stdout",
          "text": [
            "n1 100.0\n",
            "n2 1000.0\n",
            "n3 1000.0\n",
            "nTotal 2100.0\n",
            "C1 300.0\n",
            "C2 600000.0\n",
            "C3 7000.0\n",
            "CTotal 607300.0\n"
          ]
        }
      ]
    },
    {
      "cell_type": "code",
      "source": [],
      "metadata": {
        "id": "6awmz7_qw6xp"
      },
      "execution_count": null,
      "outputs": []
    }
  ]
}